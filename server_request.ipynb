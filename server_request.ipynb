{
  "nbformat": 4,
  "nbformat_minor": 0,
  "metadata": {
    "colab": {
      "name": "request.ipynb",
      "provenance": [],
      "collapsed_sections": []
    },
    "kernelspec": {
      "name": "python3",
      "display_name": "Python 3"
    },
    "language_info": {
      "name": "python"
    }
  },
  "cells": [
    {
      "cell_type": "code",
      "source": [
        "import requests\n",
        "target_url = \"https://portal.amfiindia.com/DownloadNAVHistoryReport_Po.aspx?mf=53&frmdt=01-Jun-2021&todt=18-Apr-2022\"\n",
        "f = requests.get(target_url)\n",
        "f.encoding = 'utf-8'\n",
        "file = open('myfile.txt', 'wb')\n",
        "for line in f:\n",
        "  file.write(line)\n",
        "    #print(line)"
      ],
      "metadata": {
        "id": "RdGphFP4iRVF"
      },
      "execution_count": null,
      "outputs": []
    },
    {
      "cell_type": "code",
      "source": [
        ""
      ],
      "metadata": {
        "id": "Gcdg0Q-UrrvY"
      },
      "execution_count": null,
      "outputs": []
    }
  ]
}