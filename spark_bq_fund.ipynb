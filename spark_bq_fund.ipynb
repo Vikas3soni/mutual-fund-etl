{
  "cells": [
    {
      "cell_type": "code",
      "execution_count": null,
      "metadata": {
        "id": "RrGiIkySlYXy",
        "colab": {
          "base_uri": "https://localhost:8080/"
        },
        "outputId": "e4fbbfc4-6c51-49a4-ab5e-0da9fd374cd5"
      },
      "outputs": [
        {
          "output_type": "stream",
          "name": "stdout",
          "text": [
            "Looking in indexes: https://pypi.org/simple, https://us-python.pkg.dev/colab-wheels/public/simple/\n",
            "Collecting pyspark\n",
            "  Downloading pyspark-3.3.0.tar.gz (281.3 MB)\n",
            "\u001b[K     |██████████████████████████████  | 264.2 MB 1.3 MB/s eta 0:00:14"
          ]
        }
      ],
      "source": [
        "!apt-get install openjdk-8-jdk-headless -qq > /dev/null\n",
        "!wget -q https://archive.apache.org/dist/spark/spark-3.1.2/spark-3.1.2-bin-hadoop2.7.tgz\n",
        "!tar xf spark-3.1.2-bin-hadoop2.7.tgz\n",
        "!pip install -q findspark\n",
        "\n",
        "!pip install pyspark "
      ]
    },
    {
      "cell_type": "code",
      "execution_count": null,
      "metadata": {
        "id": "Hkox127AlgKn"
      },
      "outputs": [],
      "source": [
        "import os\n",
        "os.environ[\"JAVA_HOME\"] = \"/usr/lib/jvm/java-8-openjdk-amd64\"\n",
        "os.environ[\"SPARK_HOME\"] = \"/content/spark-3.1.2-bin-hadoop2.7\""
      ]
    },
    {
      "cell_type": "code",
      "execution_count": null,
      "metadata": {
        "id": "mq_tl-mylj7s"
      },
      "outputs": [],
      "source": [
        "import findspark\n",
        "findspark.init()"
      ]
    },
    {
      "cell_type": "code",
      "source": [
        "from pyspark.sql import SparkSession, column\n",
        "spark = SparkSession.builder\\\n",
        "        .master(\"local\")\\\n",
        "        .appName(\"Colab\")\\\n",
        "        .config('spark.ui.port', '4050')\\\n",
        "        .getOrCreate()"
      ],
      "metadata": {
        "id": "-VufRy3NqkNC"
      },
      "execution_count": null,
      "outputs": []
    },
    {
      "cell_type": "code",
      "source": [
        "from pyspark.sql.types import StructType, StructField, StringType, IntegerType,DateType\n",
        "c_schema = StructType([\n",
        "            StructField(\"Scheme Code\", StringType(), True),\n",
        "            StructField(\"Scheme Name\", StringType(), True),\n",
        "            StructField(\"ISIN Div Payout\", StringType(), True),\n",
        "            StructField(\"ISIN Div Reinvestment\", StringType(), False),\n",
        "            StructField(\"Net Asset Value\", StringType(), False),\n",
        "            StructField(\"Repurchase Price\", StringType(), False),\n",
        "            StructField(\"Sale Price\", StringType(), False),\n",
        "            StructField(\"Date\", StringType(), True)\n",
        "            ])"
      ],
      "metadata": {
        "id": "u0mjU__dtTMl"
      },
      "execution_count": null,
      "outputs": []
    },
    {
      "cell_type": "code",
      "source": [
        "df = spark.read.format(\"csv\").option(\"header\", \"true\")\\\n",
        "            .option(\"delimiter\", \";\")\\\n",
        "            .schema(c_schema)\\\n",
        "            .load(\"/content/spark_input.txt\")"
      ],
      "metadata": {
        "id": "SVAEznyur3RX"
      },
      "execution_count": null,
      "outputs": []
    },
    {
      "cell_type": "code",
      "source": [
        "df = df.filter(df['Scheme Name'].isNotNull())\n",
        "df.show(6)"
      ],
      "metadata": {
        "colab": {
          "base_uri": "https://localhost:8080/"
        },
        "id": "u5mRJGrfgsg2",
        "outputId": "260df5be-6abf-4f36-bcd4-273176371e7c"
      },
      "execution_count": null,
      "outputs": [
        {
          "output_type": "stream",
          "name": "stdout",
          "text": [
            "+-----------+--------------------+---------------+---------------------+---------------+----------------+----------+-----------+\n",
            "|Scheme Code|         Scheme Name|ISIN Div Payout|ISIN Div Reinvestment|Net Asset Value|Repurchase Price|Sale Price|       Date|\n",
            "+-----------+--------------------+---------------+---------------------+---------------+----------------+----------+-----------+\n",
            "|     149383|Axis Multicap Fun...|   INF846K013E0|                 null|          10.01|            null|      null|23-Dec-2021|\n",
            "|     149383|Axis Multicap Fun...|   INF846K013E0|                 null|          10.01|            null|      null|24-Dec-2021|\n",
            "|     149383|Axis Multicap Fun...|   INF846K013E0|                 null|          10.01|            null|      null|27-Dec-2021|\n",
            "|     149383|Axis Multicap Fun...|   INF846K013E0|                 null|          10.05|            null|      null|28-Dec-2021|\n",
            "|     149383|Axis Multicap Fun...|   INF846K013E0|                 null|          10.05|            null|      null|29-Dec-2021|\n",
            "|     149383|Axis Multicap Fun...|   INF846K013E0|                 null|          10.05|            null|      null|30-Dec-2021|\n",
            "+-----------+--------------------+---------------+---------------------+---------------+----------------+----------+-----------+\n",
            "only showing top 6 rows\n",
            "\n"
          ]
        }
      ]
    },
    {
      "cell_type": "code",
      "source": [
        "#update date datatype \n",
        "from pyspark.sql.functions import *\n",
        "spark.sql(\"set spark.sql.legacy.timeParserPolicy=LEGACY\")\n",
        "df = df.withColumn(\"date\",to_date(col('Date'),'dd-MMM-yyyy'))\n",
        "df.show(5)"
      ],
      "metadata": {
        "colab": {
          "base_uri": "https://localhost:8080/"
        },
        "id": "nx2y2njLb_HZ",
        "outputId": "4ac5e25e-2eb7-435a-fe59-d9ee4b051a1a"
      },
      "execution_count": null,
      "outputs": [
        {
          "output_type": "stream",
          "name": "stdout",
          "text": [
            "root\n",
            " |-- Scheme Code: string (nullable = true)\n",
            " |-- Scheme Name: string (nullable = true)\n",
            " |-- ISIN Div Payout: string (nullable = true)\n",
            " |-- ISIN Div Reinvestment: string (nullable = true)\n",
            " |-- Net Asset Value: string (nullable = true)\n",
            " |-- Repurchase Price: string (nullable = true)\n",
            " |-- Sale Price: string (nullable = true)\n",
            " |-- date: date (nullable = true)\n",
            "\n"
          ]
        }
      ]
    },
    {
      "cell_type": "code",
      "source": [
        "df.show(5)"
      ],
      "metadata": {
        "colab": {
          "base_uri": "https://localhost:8080/"
        },
        "id": "7jzgH7KOcTEx",
        "outputId": "b1d4d451-36dc-40f0-9033-97a320525c09"
      },
      "execution_count": null,
      "outputs": [
        {
          "output_type": "stream",
          "name": "stdout",
          "text": [
            "+-----------+--------------------+---------------+---------------------+---------------+----------------+----------+-----------+\n",
            "|Scheme Code|         Scheme Name|ISIN Div Payout|ISIN Div Reinvestment|Net Asset Value|Repurchase Price|Sale Price|       Date|\n",
            "+-----------+--------------------+---------------+---------------------+---------------+----------------+----------+-----------+\n",
            "|     149383|Axis Multicap Fun...|   INF846K013E0|                 null|          10.01|            null|      null|23-Dec-2021|\n",
            "|     149383|Axis Multicap Fun...|   INF846K013E0|                 null|          10.01|            null|      null|24-Dec-2021|\n",
            "|     149383|Axis Multicap Fun...|   INF846K013E0|                 null|          10.01|            null|      null|27-Dec-2021|\n",
            "|     149383|Axis Multicap Fun...|   INF846K013E0|                 null|          10.05|            null|      null|28-Dec-2021|\n",
            "|     149383|Axis Multicap Fun...|   INF846K013E0|                 null|          10.05|            null|      null|29-Dec-2021|\n",
            "+-----------+--------------------+---------------+---------------------+---------------+----------------+----------+-----------+\n",
            "only showing top 5 rows\n",
            "\n"
          ]
        }
      ]
    },
    {
      "cell_type": "code",
      "source": [
        "# incremental-load\n",
        "# check with reference control table to get last updated date\n",
        "\n"
      ],
      "metadata": {
        "id": "fmqv-FQImFn_"
      },
      "execution_count": null,
      "outputs": []
    }
  ],
  "metadata": {
    "colab": {
      "name": "spark_fund.ipynb",
      "provenance": [],
      "collapsed_sections": []
    },
    "kernelspec": {
      "display_name": "Python 3",
      "name": "python3"
    },
    "language_info": {
      "name": "python"
    }
  },
  "nbformat": 4,
  "nbformat_minor": 0
}